{
 "cells": [
  {
   "cell_type": "code",
   "execution_count": 2,
   "metadata": {
    "colab": {
     "base_uri": "https://localhost:8080/",
     "height": 69
    },
    "executionInfo": {
     "elapsed": 11633,
     "status": "ok",
     "timestamp": 1708208693263,
     "user": {
      "displayName": "AfterRain (GR7)",
      "userId": "15643403414710916408"
     },
     "user_tz": -420
    },
    "id": "fz4jeDJTK1z8",
    "outputId": "1ed9f28d-c70a-4ab2-9d4f-4b738836eacc"
   },
   "outputs": [
    {
     "name": "stdout",
     "output_type": "stream",
     "text": [
      "\u001b[2K     \u001b[90m━━━━━━━━━━━━━━━━━━━━━━━━━━━━━━━━━━━━━━━━\u001b[0m \u001b[32m10.2/10.2 MB\u001b[0m \u001b[31m26.8 MB/s\u001b[0m eta \u001b[36m0:00:00\u001b[0m\n",
      "\u001b[?25hDash app running on:\n"
     ]
    },
    {
     "data": {
      "application/javascript": [
       "(async (port, path, text, element) => {\n",
       "    if (!google.colab.kernel.accessAllowed) {\n",
       "      return;\n",
       "    }\n",
       "    element.appendChild(document.createTextNode(''));\n",
       "    const url = await google.colab.kernel.proxyPort(port);\n",
       "    const anchor = document.createElement('a');\n",
       "    anchor.href = new URL(path, url).toString();\n",
       "    anchor.target = '_blank';\n",
       "    anchor.setAttribute('data-href', url + path);\n",
       "    anchor.textContent = text;\n",
       "    element.appendChild(anchor);\n",
       "  })(8050, \"/\", \"http://127.0.0.1:8050/\", window.element)"
      ],
      "text/plain": [
       "<IPython.core.display.Javascript object>"
      ]
     },
     "metadata": {},
     "output_type": "display_data"
    }
   ],
   "source": [
    "#!/usr/bin/env python\n",
    "# coding: utf-8\n",
    "\n",
    "# In[ ]:\n",
    "\n",
    "!pip -q install dash\n",
    "import dash\n",
    "from dash import dcc\n",
    "from dash import html\n",
    "from dash.dependencies import Input, Output\n",
    "import pandas as pd\n",
    "import plotly.graph_objs as go\n",
    "import plotly.express as px\n",
    "\n",
    "# Load the data using pandas\n",
    "df = pd.read_csv('https://cf-courses-data.s3.us.cloud-object-storage.appdomain.cloud/IBMDeveloperSkillsNetwork-DV0101EN-SkillsNetwork/Data%20Files/historical_automobile_sales.csv')\n",
    "\n",
    "# Initialize the Dash app\n",
    "app = dash.Dash(__name__)\n",
    "app.config.suppress_callback_exceptions = True\n",
    "\n",
    "# Set the title of the dashboard\n",
    "#app.title = \"Automobile Statistics Dashboard\"\n",
    "app.layout = html.Div(children=[html.H1(\"Automobile Statistics Dashboard\",\n",
    "                                style={'textAlign': 'center', 'color': '#503D36',\n",
    "                                'font-size': 26}),\n",
    "#outer division starts\n",
    "     html.Div([\n",
    "                   # First inner division for adding dropdown helper text for Selected Drive wheels\n",
    "                    html.Div([\n",
    "                            html.H2(\"Select Your Statistics\", style={'margin-right': '2em'}),\n",
    "\n",
    "                    #Radio items to select the region\n",
    "                    #dcc.RadioItems(df[\"Region\"].unique(), value ='NSW', id='region',inline=True)]),\n",
    "\n",
    "                    dcc.RadioItems([{\"label\":\"Recession Period Statistics\",\"value\": \"recession\"},\n",
    "                                    {\"label\":\"Yearly Statistics\",\"value\": \"yearly\"}], \"yearly\", id=\"stats\", inline = True)]),\n",
    "                    #               {\"label\":\"Queensland\",\"value\": \"QL\"},\n",
    "                    #               {\"label\":\"South Australia\",\"value\": \"SA\"},\n",
    "                    #               {\"label\":\"Tasmania\",\"value\": \"TA\"},\n",
    "                    #                {\"label\":\"Victoria\",\"value\": \"VI\"},\n",
    "                    #                {\"label\":\"Western Australia\",\"value\": \"WA\"}],\"NSW\", id='region',inline=True)]),\n",
    "                    #Dropdown to select year\n",
    "                    html.Div([\n",
    "                            html.H2('Year', style={'margin-right': '2em'}),\n",
    "                        dcc.Dropdown(df.Year.unique(), value = df.Year.unique()[0], id = 'year')\n",
    "                    ]),\n",
    "#Second Inner division for adding 2 inner divisions for 2 output graphs\n",
    "#TASK 2.3: Add two empty divisions for output inside the next inner division.\n",
    "                    html.Div([\n",
    "                    html.Div([ ], id='plot1', style={'width': '50%', 'display': 'inline-block'}),\n",
    "                    html.Div([ ], id='plot2', style={'width': '50%', 'display': 'inline-block'}),\n",
    "                    html.Div([ ], id='plot3', style={'width': '50%', 'display': 'inline-block'}),\n",
    "                    html.Div([ ], id='plot4', style={'width': '50%', 'display': 'inline-block'})], style={'margin-right': '2em'}),\n",
    "    ])\n",
    "    #outer division ends\n",
    "])\n",
    "\n",
    "@app.callback([Output(component_id=\"plot1\", component_property=\"children\")],\n",
    "              [Output(component_id=\"plot2\", component_property=\"children\")],\n",
    "              [Output(component_id=\"plot3\", component_property=\"children\")],\n",
    "              [Output(component_id=\"plot4\", component_property=\"children\")],\n",
    "              [Input(component_id=\"stats\", component_property=\"value\"),\n",
    "               Input(component_id=\"year\", component_property=\"value\")])\n",
    "\n",
    "#TASK 2.5: Add the callback function.\n",
    "#Place to define the callback function .\n",
    "def statistic(input_stats, input_year):\n",
    "  if input_stats == \"yearly\":\n",
    "    # Yearly Automobile Sales Statistics\n",
    "    # Yearly Average Automobile sales using line chart for the whole period.\n",
    "    fig1 = px.line(x=df.groupby('Year').mean().index, y=df.groupby('Year').mean()[\"Automobile_Sales\"], title=\"Yearly Average Automobile Sales\")\n",
    "    fig1.update_xaxes(title_text=\"Year\") # Adding x-axis label\n",
    "    fig1.update_yaxes(title_text=\"Average Sales\") # Adding y-axis label\n",
    "\n",
    "    # Total Monthly Automobile sales using line chart.\n",
    "    fig2 = px.line(df[df['Year'] == input_year], x='Month', y='Automobile_Sales', title=\"Total Monthly Automobile Sales in {}\".format(input_year))\n",
    "\n",
    "    # Average Monthly Automobile sales of each vehicle type using bar chart.\n",
    "    fig3 = px.bar(df[df['Year'] == input_year].groupby(['Vehicle_Type', 'Month']).mean().reset_index(), x=\"Month\", y=\"Automobile_Sales\", color=\"Vehicle_Type\", title=\"Average Monthly Automobile Sales by Vehicle Type in {}\".format(input_year))\n",
    "\n",
    "    # Total Advertisement Expenditure for each vehicle using pie chart\n",
    "    temp = df[df['Year'] == input_year].groupby(['Vehicle_Type']).sum()\n",
    "    fig4 = px.pie(values=temp['Advertising_Expenditure'], names=temp.index, title=\"Total Advertisement Expenditure by Vehicle Type in {}\".format(input_year))\n",
    "  elif input_stats == \"recession\":\n",
    "    # Average Automobile sales using line chart for the Recession Period using line chart.\n",
    "    fig1 = px.line(df[df['Recession'] == 1].groupby('Year').mean(), x=df[df['Recession'] == 1].groupby('Year').mean().index, y='Automobile_Sales', title=\"Average Automobile Sales During Recession\")\n",
    "    fig1.update_xaxes(title_text=\"Year\") # Adding x-axis label\n",
    "    fig1.update_yaxes(title_text=\"Average Sales\") # Adding y-axis label\n",
    "\n",
    "    # Average number of vehicles sold by vehicle type using bar chart\n",
    "    fig2 = px.bar(df[df['Recession'] == 1].groupby([\"Vehicle_Type\"]).mean(numeric_only=True).reset_index(), x='Vehicle_Type', y=\"Automobile_Sales\", color='Vehicle_Type', title=\"Average Number of Vehicles Sold by Vehicle Type During Recession\")\n",
    "\n",
    "    # Total expenditure share by vehicle type during recession using pie chart\n",
    "    temp = df[df['Recession'] == 1].groupby('Vehicle_Type').sum()\n",
    "    fig3 = px.pie(values=temp['Advertising_Expenditure'], names=temp.index, title=\"Total Expenditure Share by Vehicle Type During Recession\")\n",
    "\n",
    "    # Effect of unemployment rate on vehicle type and sales using bar chart\n",
    "    temp = df[(df['Recession'] == 1)].groupby([\"unemployment_rate\", \"Vehicle_Type\"]).mean().reset_index()\n",
    "    fig4 = px.bar(temp, x=\"unemployment_rate\", y=\"Automobile_Sales\", color=\"Vehicle_Type\", barmode=\"group\", title=\"Effect of Unemployment Rate on Vehicle Type and Sales During Recession\")\n",
    "\n",
    "  return [dcc.Graph(figure=fig1), dcc.Graph(figure=fig2), dcc.Graph(figure=fig3), dcc.Graph(figure=fig4)]\n",
    "if __name__ == '__main__':\n",
    "    app.run(jupyter_mode='external')"
   ]
  }
 ],
 "metadata": {
  "colab": {
   "authorship_tag": "ABX9TyN1aaSLBYMt6cLiVSkCK4HK",
   "provenance": []
  },
  "kernelspec": {
   "display_name": "Python 3 (ipykernel)",
   "language": "python",
   "name": "python3"
  },
  "language_info": {
   "codemirror_mode": {
    "name": "ipython",
    "version": 3
   },
   "file_extension": ".py",
   "mimetype": "text/x-python",
   "name": "python",
   "nbconvert_exporter": "python",
   "pygments_lexer": "ipython3",
   "version": "3.10.9"
  }
 },
 "nbformat": 4,
 "nbformat_minor": 4
}
